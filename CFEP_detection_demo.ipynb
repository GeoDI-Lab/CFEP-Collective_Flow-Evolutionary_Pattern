{
 "cells": [
  {
   "cell_type": "markdown",
   "metadata": {},
   "source": [
    "# Collective flow evolution patterns reveal the mesoscopic structure in sequential spatial network snapshots"
   ]
  },
  {
   "cell_type": "code",
   "execution_count": 1,
   "metadata": {},
   "outputs": [],
   "source": [
    "import geopandas as gpd\n",
    "import shapely\n",
    "import matplotlib.pyplot as plt\n",
    "import seaborn as sns\n",
    "import networkx as nx\n",
    "import pandas as pd\n",
    "import os\n",
    "from datetime import datetime,date\n",
    "from tqdm import tqdm\n",
    "import numpy as np\n",
    "\n",
    "import CFEP\n",
    "import Case_study_analysis\n",
    "\n",
    "import warnings \n",
    "warnings.filterwarnings(\"ignore\")"
   ]
  },
  {
   "cell_type": "code",
   "execution_count": 3,
   "metadata": {},
   "outputs": [],
   "source": [
    "weekday_G=nx.read_gexf(os.getcwd()+'/data/weekday.gexf')\n",
    "weekend_G=nx.read_gexf(os.getcwd()+'/data/weekend.gexf')\n",
    "G_distance=nx.read_gexf(os.getcwd()+'/data/G_weighted_by_distance.gexf')\n",
    "fishnet=gpd.read_file(os.getcwd()+'/data/fishnet_3km_4326.geojson')"
   ]
  },
  {
   "cell_type": "markdown",
   "metadata": {},
   "source": [
    "## The original weekend and weekday networks"
   ]
  },
  {
   "cell_type": "code",
   "execution_count": 3,
   "metadata": {},
   "outputs": [
    {
     "data": {
      "text/html": [
       "<div>\n",
       "<style scoped>\n",
       "    .dataframe tbody tr th:only-of-type {\n",
       "        vertical-align: middle;\n",
       "    }\n",
       "\n",
       "    .dataframe tbody tr th {\n",
       "        vertical-align: top;\n",
       "    }\n",
       "\n",
       "    .dataframe thead th {\n",
       "        text-align: right;\n",
       "    }\n",
       "</style>\n",
       "<table border=\"1\" class=\"dataframe\">\n",
       "  <thead>\n",
       "    <tr style=\"text-align: right;\">\n",
       "      <th></th>\n",
       "      <th>Weekend</th>\n",
       "      <th>Weekday</th>\n",
       "    </tr>\n",
       "  </thead>\n",
       "  <tbody>\n",
       "    <tr>\n",
       "      <th>The number of nodes</th>\n",
       "      <td>916</td>\n",
       "      <td>918</td>\n",
       "    </tr>\n",
       "    <tr>\n",
       "      <th>The number of edges</th>\n",
       "      <td>58039</td>\n",
       "      <td>81383</td>\n",
       "    </tr>\n",
       "  </tbody>\n",
       "</table>\n",
       "</div>"
      ],
      "text/plain": [
       "                     Weekend  Weekday\n",
       "The number of nodes      916      918\n",
       "The number of edges    58039    81383"
      ]
     },
     "execution_count": 3,
     "metadata": {},
     "output_type": "execute_result"
    }
   ],
   "source": [
    "pd.DataFrame.from_dict({'The number of nodes':[len(weekend_G.nodes()),len(weekday_G.nodes())],\n",
    "                        'The number of edges':[len(weekend_G.edges()),len(weekday_G.edges())]}, orient='index',columns=['Weekend', 'Weekday'])"
   ]
  },
  {
   "cell_type": "markdown",
   "metadata": {},
   "source": [
    "## Construct weekend and weekday network snapshots"
   ]
  },
  {
   "cell_type": "code",
   "execution_count": 4,
   "metadata": {},
   "outputs": [
    {
     "name": "stdout",
     "output_type": "stream",
     "text": [
      "The average change rate r_g: 1.134\n"
     ]
    },
    {
     "data": {
      "text/html": [
       "<div>\n",
       "<style scoped>\n",
       "    .dataframe tbody tr th:only-of-type {\n",
       "        vertical-align: middle;\n",
       "    }\n",
       "\n",
       "    .dataframe tbody tr th {\n",
       "        vertical-align: top;\n",
       "    }\n",
       "\n",
       "    .dataframe thead th {\n",
       "        text-align: right;\n",
       "    }\n",
       "</style>\n",
       "<table border=\"1\" class=\"dataframe\">\n",
       "  <thead>\n",
       "    <tr style=\"text-align: right;\">\n",
       "      <th></th>\n",
       "      <th>Weekend</th>\n",
       "      <th>Weekday</th>\n",
       "    </tr>\n",
       "  </thead>\n",
       "  <tbody>\n",
       "    <tr>\n",
       "      <th>The number of nodes</th>\n",
       "      <td>920</td>\n",
       "      <td>920</td>\n",
       "    </tr>\n",
       "    <tr>\n",
       "      <th>The number of edges</th>\n",
       "      <td>26628</td>\n",
       "      <td>26628</td>\n",
       "    </tr>\n",
       "  </tbody>\n",
       "</table>\n",
       "</div>"
      ],
      "text/plain": [
       "                     Weekend  Weekday\n",
       "The number of nodes      920      920\n",
       "The number of edges    26628    26628"
      ]
     },
     "execution_count": 4,
     "metadata": {},
     "output_type": "execute_result"
    }
   ],
   "source": [
    "# weekday_snapshots,weekend_snapshots=CFEP.std_topology(weekday_G,weekend_G)\n",
    "\n",
    "weekday_snapshots=nx.read_gexf(os.getcwd()+'/data/std_topology_weekday_july21.gexf')\n",
    "weekend_snapshots=nx.read_gexf(os.getcwd()+'/data/std_topology_weekend_july21.gexf')\n",
    "\n",
    "flow_filter=2\n",
    "\n",
    "weekday_snapshots_edge_more_2=weekday_snapshots.copy()\n",
    "weekend_snapshots_edge_more_2=weekend_snapshots.copy()\n",
    "\n",
    "for edge in weekday_snapshots.edges(data=True):\n",
    "    if weekday_snapshots[edge[0]][edge[1]]['weight']<flow_filter and weekend_snapshots[edge[0]][edge[1]]['weight']<flow_filter:\n",
    "        weekday_snapshots_edge_more_2.remove_edge(edge[0],edge[1])\n",
    "        weekend_snapshots_edge_more_2.remove_edge(edge[0],edge[1])\n",
    "        \n",
    "G_weight_sum=CFEP.sum_weight([weekday_snapshots_edge_more_2,weekend_snapshots_edge_more_2])\n",
    "print('The average change rate r_g:',round(G_weight_sum[0]/G_weight_sum[1],3))\n",
    "\n",
    "pd.DataFrame.from_dict({'The number of nodes':[len(weekend_snapshots_edge_more_2.nodes()),len(weekday_snapshots_edge_more_2.nodes())],\n",
    "                        'The number of edges':[len(weekend_snapshots_edge_more_2.edges()),len(weekday_snapshots_edge_more_2.edges())],\n",
    "                        }, orient='index',columns=['Weekend', 'Weekday'])\n"
   ]
  },
  {
   "cell_type": "markdown",
   "metadata": {},
   "source": [
    "## Evolutionary network initialization and standardization "
   ]
  },
  {
   "cell_type": "code",
   "execution_count": 5,
   "metadata": {},
   "outputs": [
    {
     "name": "stderr",
     "output_type": "stream",
     "text": [
      "100%|███████████████████████████████████████████████████| 26628/26628 [00:00<00:00, 112650.44it/s]\n",
      "100%|███████████████████████████████████████████████████| 26628/26628 [00:00<00:00, 237904.99it/s]\n"
     ]
    },
    {
     "name": "stdout",
     "output_type": "stream",
     "text": [
      "The average change rate of positive graph: 1.45\n",
      "The average change rate of negative graph: 0.86\n"
     ]
    }
   ],
   "source": [
    "P_weekday_g,P_weekend_g=CFEP.get_positive_graph(weekday_snapshots_edge_more_2,weekend_snapshots_edge_more_2)\n",
    "N_weekday_g,N_weekend_g=CFEP.get_negative_graph(weekday_snapshots_edge_more_2,weekend_snapshots_edge_more_2)\n",
    "\n",
    "P_g_sum=CFEP.sum_weight([P_weekday_g,P_weekend_g])\n",
    "N_g_sum=CFEP.sum_weight([N_weekday_g,N_weekend_g])\n",
    "print('The average change rate of positive graph:',round(P_g_sum[0]/P_g_sum[1],2))\n",
    "print('The average change rate of negative graph:',round(N_g_sum[0]/N_g_sum[1],2))"
   ]
  },
  {
   "cell_type": "markdown",
   "metadata": {},
   "source": [
    "## CFEP detection\n",
    "- Compute environment: Intel(R) Xeon(R) CPU E5-2660 v3 @ 2.60GHz, 16 GB RAM\n",
    "- Based on the current data and environment, each CFEP detection requires approximately 10-20 minutes to complete. \n",
    "- The results may vary due to differences in software and hardware environments.\n",
    "- `Case_study_analysis.load_detection_result()` can directly load detection results shown in the paper."
   ]
  },
  {
   "cell_type": "code",
   "execution_count": 26,
   "metadata": {
    "tags": []
   },
   "outputs": [],
   "source": [
    "# Load CFEP detection result used in the paper\n",
    "co_in_CFEP,po_co_CFEP,co_de_CFEP,ne_co_CFEP=Case_study_analysis.load_detection_result()"
   ]
  },
  {
   "cell_type": "code",
   "execution_count": 17,
   "metadata": {},
   "outputs": [
    {
     "name": "stdout",
     "output_type": "stream",
     "text": [
      "Co-increasing\n",
      "1 iteration  Q:56.652204337298784  coast:82.4691s\n",
      "2 iteration  Q:63.561585818967906  coast:83.5372s\n",
      "3 iteration  Q:64.36163121323149  coast:87.3600s\n",
      "4 iteration  Q:64.5402409134919  coast:87.3422s\n",
      "5 iteration  Q:64.5402409134919  coast:86.9822s\n",
      "6 iteration  Q:64.5402409134919  coast:87.2425s\n",
      "Positive Co-stable\n",
      "1 iteration  Q:226.29407349229922  coast:82.1946s\n",
      "2 iteration  Q:261.81405747809157  coast:93.7227s\n",
      "3 iteration  Q:272.3310036339516  coast:98.3554s\n",
      "4 iteration  Q:273.6093793268791  coast:97.3683s\n",
      "5 iteration  Q:273.7245704294158  coast:97.2202s\n",
      "6 iteration  Q:274.0403134103382  coast:96.5864s\n",
      "7 iteration  Q:274.0806848418278  coast:96.2099s\n",
      "8 iteration  Q:274.0806848418278  coast:96.2023s\n",
      "9 iteration  Q:274.0806848418278  coast:95.2437s\n",
      "Co-decreasing\n",
      "1 iteration  Q:58.71968506226824  coast:100.8924s\n",
      "2 iteration  Q:69.20088956518664  coast:112.0609s\n",
      "3 iteration  Q:71.19064591067469  coast:122.0358s\n",
      "4 iteration  Q:72.19201301219141  coast:128.8129s\n",
      "5 iteration  Q:72.49356583789556  coast:133.2730s\n",
      "6 iteration  Q:72.51239486826442  coast:131.1625s\n",
      "7 iteration  Q:72.51239486826442  coast:131.2587s\n",
      "8 iteration  Q:72.51239486826442  coast:131.6104s\n",
      "Negative Co-stable\n",
      "1 iteration  Q:124.73428655303208  coast:94.7713s\n",
      "2 iteration  Q:143.46844650127673  coast:100.0707s\n",
      "3 iteration  Q:150.66103272948942  coast:102.3773s\n",
      "4 iteration  Q:152.60872665585936  coast:107.6593s\n",
      "5 iteration  Q:154.80120836462154  coast:112.5899s\n",
      "6 iteration  Q:159.4867348220957  coast:126.3712s\n",
      "7 iteration  Q:161.92311388940135  coast:150.0194s\n",
      "8 iteration  Q:162.15238724068146  coast:147.9259s\n",
      "9 iteration  Q:163.33898696555124  coast:147.7040s\n",
      "10 iteration  Q:163.91652010375594  coast:157.5442s\n",
      "11 iteration  Q:163.9195991246996  coast:154.5688s\n",
      "12 iteration  Q:163.9195991246996  coast:154.3008s\n",
      "13 iteration  Q:163.9195991246996  coast:154.3514s\n"
     ]
    }
   ],
   "source": [
    "# Repeat CFEP detection on case study data\n",
    "# co_in_CFEP=CFEP.CFEP_detection(P_weekday_g,P_weekend_g,pattern='Co-increasing',show_process=True,resolution=1.45)\n",
    "# po_co_CFEP=CFEP.CFEP_detection(P_weekday_g,P_weekend_g,pattern='Positive Co-stable',show_process=True,resolution=1)\n",
    "# co_de_CFEP=CFEP.CFEP_detection(N_weekday_g,N_weekend_g,pattern='Co-decreasing',show_process=True,resolution=0.86)\n",
    "# ne_co_CFEP=CFEP.CFEP_detection(N_weekday_g,N_weekend_g,pattern='Negative Co-stable',show_process=True,resolution=1)"
   ]
  },
  {
   "cell_type": "code",
   "execution_count": 27,
   "metadata": {},
   "outputs": [],
   "source": [
    "# Select flow groups with significant CFEP\n",
    "# Case_study_analysis.select_sig_flow_groups returns the significant flow groups and corresponding nodes \n",
    "sig_co_in,sig_co_in_node=Case_study_analysis.select_sig_flow_groups(co_in_CFEP,P_weekday_g,P_weekend_g,'Co-increasing')\n",
    "sig_po_co,sig_po_co_node=Case_study_analysis.select_sig_flow_groups(po_co_CFEP,P_weekday_g,P_weekend_g,'Positive Co-stable')\n",
    "sig_co_de,sig_co_de_node=Case_study_analysis.select_sig_flow_groups(co_de_CFEP,N_weekday_g,N_weekend_g,'Co-decreasing')\n",
    "sig_ne_co,sig_ne_co_node=Case_study_analysis.select_sig_flow_groups(ne_co_CFEP,N_weekday_g,N_weekend_g,'Negative Co-stable')"
   ]
  },
  {
   "cell_type": "code",
   "execution_count": 28,
   "metadata": {
    "tags": []
   },
   "outputs": [
    {
     "data": {
      "text/html": [
       "<div>\n",
       "<style scoped>\n",
       "    .dataframe tbody tr th:only-of-type {\n",
       "        vertical-align: middle;\n",
       "    }\n",
       "\n",
       "    .dataframe tbody tr th {\n",
       "        vertical-align: top;\n",
       "    }\n",
       "\n",
       "    .dataframe thead th {\n",
       "        text-align: right;\n",
       "    }\n",
       "</style>\n",
       "<table border=\"1\" class=\"dataframe\">\n",
       "  <thead>\n",
       "    <tr style=\"text-align: right;\">\n",
       "      <th></th>\n",
       "      <th>Flow groups</th>\n",
       "      <th>Reshuffled Internal-flow</th>\n",
       "      <th>Reshuffled External-flow</th>\n",
       "      <th>Average intra-change rate</th>\n",
       "      <th>Average inter-change rate</th>\n",
       "      <th>Difference of edge change rate</th>\n",
       "      <th>Pseudo p-value</th>\n",
       "    </tr>\n",
       "  </thead>\n",
       "  <tbody>\n",
       "    <tr>\n",
       "      <th>6</th>\n",
       "      <td>$F^{p,+}_{7}$</td>\n",
       "      <td>6</td>\n",
       "      <td>138</td>\n",
       "      <td>3.627778</td>\n",
       "      <td>2.098283</td>\n",
       "      <td>1.529494</td>\n",
       "      <td>0.010</td>\n",
       "    </tr>\n",
       "    <tr>\n",
       "      <th>9</th>\n",
       "      <td>$F^{p,+}_{10}$</td>\n",
       "      <td>6</td>\n",
       "      <td>228</td>\n",
       "      <td>3.504762</td>\n",
       "      <td>2.162186</td>\n",
       "      <td>1.342576</td>\n",
       "      <td>0.013</td>\n",
       "    </tr>\n",
       "    <tr>\n",
       "      <th>10</th>\n",
       "      <td>$F^{p,+}_{11}$</td>\n",
       "      <td>15</td>\n",
       "      <td>689</td>\n",
       "      <td>4.007051</td>\n",
       "      <td>2.367048</td>\n",
       "      <td>1.640003</td>\n",
       "      <td>0.004</td>\n",
       "    </tr>\n",
       "    <tr>\n",
       "      <th>13</th>\n",
       "      <td>$F^{p,+}_{14}$</td>\n",
       "      <td>3</td>\n",
       "      <td>45</td>\n",
       "      <td>3.933333</td>\n",
       "      <td>1.887592</td>\n",
       "      <td>2.045742</td>\n",
       "      <td>0.030</td>\n",
       "    </tr>\n",
       "    <tr>\n",
       "      <th>14</th>\n",
       "      <td>$F^{p,+}_{15}$</td>\n",
       "      <td>2</td>\n",
       "      <td>102</td>\n",
       "      <td>4.300000</td>\n",
       "      <td>1.895628</td>\n",
       "      <td>2.404372</td>\n",
       "      <td>0.023</td>\n",
       "    </tr>\n",
       "  </tbody>\n",
       "</table>\n",
       "</div>"
      ],
      "text/plain": [
       "       Flow groups  Reshuffled Internal-flow  Reshuffled External-flow  \\\n",
       "6    $F^{p,+}_{7}$                         6                       138   \n",
       "9   $F^{p,+}_{10}$                         6                       228   \n",
       "10  $F^{p,+}_{11}$                        15                       689   \n",
       "13  $F^{p,+}_{14}$                         3                        45   \n",
       "14  $F^{p,+}_{15}$                         2                       102   \n",
       "\n",
       "    Average intra-change rate  Average inter-change rate  \\\n",
       "6                    3.627778                   2.098283   \n",
       "9                    3.504762                   2.162186   \n",
       "10                   4.007051                   2.367048   \n",
       "13                   3.933333                   1.887592   \n",
       "14                   4.300000                   1.895628   \n",
       "\n",
       "    Difference of edge change rate  Pseudo p-value  \n",
       "6                         1.529494           0.010  \n",
       "9                         1.342576           0.013  \n",
       "10                        1.640003           0.004  \n",
       "13                        2.045742           0.030  \n",
       "14                        2.404372           0.023  "
      ]
     },
     "execution_count": 28,
     "metadata": {},
     "output_type": "execute_result"
    }
   ],
   "source": [
    "sig_co_in.head()"
   ]
  },
  {
   "cell_type": "code",
   "execution_count": 29,
   "metadata": {},
   "outputs": [],
   "source": [
    "# Statistics of collective flow evolution\n",
    "co_in_flow,sig_co_in=Case_study_analysis.extract_flow(sig_co_in_node,P_weekday_g,P_weekend_g,G_distance,sig_co_in)\n",
    "co_de_flow,sig_co_de=Case_study_analysis.extract_flow(sig_co_de_node,N_weekday_g,N_weekend_g,G_distance,sig_co_de)\n",
    "N_co_stable_flow,sig_ne_co=Case_study_analysis.extract_flow(sig_ne_co_node,N_weekday_g,N_weekend_g,G_distance,sig_ne_co)\n",
    "P_co_stable_flow,sig_po_co=Case_study_analysis.extract_flow(sig_po_co_node,P_weekday_g,P_weekend_g,G_distance,sig_po_co)"
   ]
  },
  {
   "cell_type": "code",
   "execution_count": 30,
   "metadata": {},
   "outputs": [
    {
     "data": {
      "text/html": [
       "<div>\n",
       "<style scoped>\n",
       "    .dataframe tbody tr th:only-of-type {\n",
       "        vertical-align: middle;\n",
       "    }\n",
       "\n",
       "    .dataframe tbody tr th {\n",
       "        vertical-align: top;\n",
       "    }\n",
       "\n",
       "    .dataframe thead th {\n",
       "        text-align: right;\n",
       "    }\n",
       "</style>\n",
       "<table border=\"1\" class=\"dataframe\">\n",
       "  <thead>\n",
       "    <tr style=\"text-align: right;\">\n",
       "      <th></th>\n",
       "      <th>Number of significant flow groups</th>\n",
       "      <th>Average edge number</th>\n",
       "      <th>Std of edge number</th>\n",
       "      <th>Average flow group change rate</th>\n",
       "      <th>Std of flow group change rate</th>\n",
       "      <th>Average diameter(KM)</th>\n",
       "    </tr>\n",
       "  </thead>\n",
       "  <tbody>\n",
       "    <tr>\n",
       "      <th>Co-increasing</th>\n",
       "      <td>47.0</td>\n",
       "      <td>7.148936</td>\n",
       "      <td>4.553922</td>\n",
       "      <td>3.982694</td>\n",
       "      <td>0.899666</td>\n",
       "      <td>37.125030</td>\n",
       "    </tr>\n",
       "    <tr>\n",
       "      <th>Positive co-stable</th>\n",
       "      <td>66.0</td>\n",
       "      <td>14.181818</td>\n",
       "      <td>23.855275</td>\n",
       "      <td>1.408612</td>\n",
       "      <td>0.234174</td>\n",
       "      <td>15.862287</td>\n",
       "    </tr>\n",
       "    <tr>\n",
       "      <th>Co-decreasing</th>\n",
       "      <td>67.0</td>\n",
       "      <td>12.134328</td>\n",
       "      <td>15.488897</td>\n",
       "      <td>0.357348</td>\n",
       "      <td>0.112345</td>\n",
       "      <td>46.481179</td>\n",
       "    </tr>\n",
       "    <tr>\n",
       "      <th>Negative co-stable</th>\n",
       "      <td>73.0</td>\n",
       "      <td>21.616438</td>\n",
       "      <td>70.767151</td>\n",
       "      <td>0.931932</td>\n",
       "      <td>0.126288</td>\n",
       "      <td>16.044554</td>\n",
       "    </tr>\n",
       "  </tbody>\n",
       "</table>\n",
       "</div>"
      ],
      "text/plain": [
       "                    Number of significant flow groups  Average edge number  \\\n",
       "Co-increasing                                    47.0             7.148936   \n",
       "Positive co-stable                               66.0            14.181818   \n",
       "Co-decreasing                                    67.0            12.134328   \n",
       "Negative co-stable                               73.0            21.616438   \n",
       "\n",
       "                    Std of edge number  Average flow group change rate  \\\n",
       "Co-increasing                 4.553922                        3.982694   \n",
       "Positive co-stable           23.855275                        1.408612   \n",
       "Co-decreasing                15.488897                        0.357348   \n",
       "Negative co-stable           70.767151                        0.931932   \n",
       "\n",
       "                    Std of flow group change rate  Average diameter(KM)  \n",
       "Co-increasing                            0.899666             37.125030  \n",
       "Positive co-stable                       0.234174             15.862287  \n",
       "Co-decreasing                            0.112345             46.481179  \n",
       "Negative co-stable                       0.126288             16.044554  "
      ]
     },
     "execution_count": 30,
     "metadata": {},
     "output_type": "execute_result"
    }
   ],
   "source": [
    "Case_study_analysis.four_CFEP_summary(sig_co_in,sig_po_co,sig_co_de,sig_ne_co)"
   ]
  },
  {
   "cell_type": "markdown",
   "metadata": {},
   "source": [
    "## Select top 5 CFEP flow groups by integrated size"
   ]
  },
  {
   "cell_type": "code",
   "execution_count": 31,
   "metadata": {},
   "outputs": [],
   "source": [
    "top_edge_number_percentage=0.2\n",
    "top_change_rate=5\n",
    "top_5_sig_co_in=Case_study_analysis.select_integrated_size(sig_co_in,[False,False],top_edge_number_percentage,top_change_rate)\n",
    "top_5_sig_po_co=Case_study_analysis.select_integrated_size(sig_po_co,[False,True],top_edge_number_percentage,top_change_rate)\n",
    "top_5_sig_co_de=Case_study_analysis.select_integrated_size(sig_co_de,[False,True],top_edge_number_percentage,top_change_rate)\n",
    "top_5_sig_ne_co=Case_study_analysis.select_integrated_size(sig_ne_co,[False,False],top_edge_number_percentage,top_change_rate)"
   ]
  },
  {
   "cell_type": "code",
   "execution_count": 32,
   "metadata": {},
   "outputs": [
    {
     "data": {
      "text/plain": [
       "<matplotlib.legend.Legend at 0x7fcbefdb5f70>"
      ]
     },
     "execution_count": 32,
     "metadata": {},
     "output_type": "execute_result"
    },
    {
     "data": {
      "image/png": "[encoded data removed]",
      "text/plain": [
       "<Figure size 1200x600 with 2 Axes>"
      ]
     },
     "metadata": {},
     "output_type": "display_data"
    }
   ],
   "source": [
    "fig, (axes,axes1) = plt.subplots(1, 2, figsize=(12, 6))\n",
    "# Plot\n",
    "# fig, axes = plt.subplots(1, 1, figsize=(6, 6), sharey=True)\n",
    "\n",
    "sns.set_style(\"white\")\n",
    "linear_co_in=sns.regplot(ax=axes,x='FG_avg_flow_weekend_weight', y='dif_day_end',data=sig_co_in,\n",
    "                     scatter_kws={'color':'#CC2831','alpha':0.5},\n",
    "                     line_kws={\"color\": \"#CC2831\"},label='Co-increasing')\n",
    "\n",
    "linear_po_co=sns.regplot(ax=axes,x='FG_avg_flow_weekend_weight', y='dif_day_end',data=sig_po_co,\n",
    "                     scatter_kws=dict(s=60, linewidths=.7, color='#FE9929',alpha=0.5),\n",
    "                     line_kws={\"color\": \"#FE9929\"},label='Positive Co-stable')\n",
    "\n",
    "linear_co_de=sns.regplot(ax=axes,x='FG_avg_flow_weekend_weight', y='dif_day_end',data=sig_co_de,\n",
    "                     scatter_kws=dict(s=60, linewidths=.7, color='#08519C',alpha=0.5),\n",
    "                     line_kws={\"color\": \"#08519C\"},label='Co-decreasing')\n",
    " \n",
    "linear_ne_co=sns.regplot(ax=axes,x='FG_avg_flow_weekend_weight', y='dif_day_end',data=sig_ne_co,\n",
    "                     scatter_kws=dict(s=60, linewidths=.7, color='#56ACB3',alpha=0.5), \n",
    "                         line_kws={\"color\": \"#56ACB3\"},label='Negative Co-stable')\n",
    "\n",
    "average_flow_group=[i for i in range(1,int(max(sig_ne_co.FG_avg_flow_weekend_weight)))]\n",
    "sns.lineplot(ax=axes,x=average_flow_group,y=[(G_weight_sum[0]/G_weight_sum[1]-1)*i for i in average_flow_group],color='grey')\n",
    "\n",
    "axes.scatter(x=sig_co_in.loc[top_5_sig_co_in.index].FG_avg_flow_weekend_weight,\n",
    "            y=sig_co_in.loc[top_5_sig_co_in.index].dif_day_end,\n",
    "            color=\"none\",edgecolors = 'black',zorder=10)\n",
    "axes.scatter(x=sig_po_co.loc[top_5_sig_po_co.index].FG_avg_flow_weekend_weight,\n",
    "            y=sig_po_co.loc[top_5_sig_po_co.index].dif_day_end,\n",
    "            color=\"none\",edgecolors = 'black',zorder=10)\n",
    "axes.scatter(x=sig_co_de.loc[top_5_sig_co_de.index].FG_avg_flow_weekend_weight,\n",
    "            y=sig_co_de.loc[top_5_sig_co_de.index].dif_day_end,\n",
    "            color=\"none\",edgecolors = 'black',zorder=10)\n",
    "axes.scatter(x=sig_ne_co.loc[top_5_sig_ne_co.index].FG_avg_flow_weekend_weight,\n",
    "            y=sig_ne_co.loc[top_5_sig_ne_co.index].dif_day_end,\n",
    "            color=\"none\",edgecolors = 'black',zorder=10)#,label='Top 5 flow group by integrated size'\n",
    "\n",
    "\n",
    "axes.set_xscale('log')\n",
    "axes.set_xlabel('$E(F)$')\n",
    "axes.set_ylabel('$\\Delta E(F)$')\n",
    "axes.legend()\n",
    "\n",
    "\n",
    "axes1.scatter(sig_co_in['Average intra-change rate'],sig_co_in['Reshuffled Internal-flow'],color='#CC2831',alpha=0.5)\n",
    "axes1.scatter(sig_po_co['Average intra-change rate'],sig_po_co['Reshuffled Internal-flow'],color='#FE9929',alpha=0.5)\n",
    "axes1.scatter(sig_co_de['Average intra-change rate'],sig_co_de['Reshuffled Internal-flow'],color='#08519C',alpha=0.5)\n",
    "axes1.scatter(sig_ne_co['Average intra-change rate'],sig_ne_co['Reshuffled Internal-flow'],color='#56ACB3',alpha=0.5)\n",
    "\n",
    "axes1.scatter(top_5_sig_co_in['Average intra-change rate'],\n",
    "            top_5_sig_co_in['Reshuffled Internal-flow'],\n",
    "            color=\"none\",edgecolors = 'black')\n",
    "axes1.scatter(top_5_sig_po_co['Average intra-change rate'],\n",
    "            top_5_sig_po_co['Reshuffled Internal-flow'],\n",
    "            color=\"none\",edgecolors = 'black')\n",
    "axes1.scatter(top_5_sig_co_de['Average intra-change rate'],\n",
    "            top_5_sig_co_de['Reshuffled Internal-flow'],\n",
    "            color=\"none\",edgecolors = 'black')\n",
    "axes1.scatter(top_5_sig_ne_co['Average intra-change rate'],\n",
    "            top_5_sig_ne_co['Reshuffled Internal-flow'],\n",
    "            color=\"none\",edgecolors = 'black',label='Top 5 flow group by integrated size')\n",
    "\n",
    "axes.text(x=1,y=45, s='p-value < 0.05',fontsize=12)\n",
    "axes1.set_xscale('log')\n",
    "axes1.set_yscale('log')\n",
    "axes1.set_xlabel('$E(R_{int})$')\n",
    "axes1.set_ylabel('$N(F_{int})$')\n",
    "axes1.legend()"
   ]
  },
  {
   "cell_type": "code",
   "execution_count": 33,
   "metadata": {},
   "outputs": [
    {
     "name": "stdout",
     "output_type": "stream",
     "text": [
      "Co-increasing ：Y = 2.070679X + 1.049782 r_squared: 0.8648166344267808\n",
      "Positive co-stable ：Y = 0.180499X + 3.370654 r_squared: 0.6987099584245728\n",
      "Co-decreasing ：Y = -0.750427X + 1.348211 r_squared: 0.9877655476210745\n",
      "Negative Co-stable ：Y = 0.076251X + -2.328261 r_squared: 0.6865090767875237\n"
     ]
    }
   ],
   "source": [
    "function_name=['Co-increasing','Positive co-stable','Co-decreasing','Negative Co-stable']\n",
    "data=[sig_co_in,sig_po_co,sig_co_de,sig_ne_co]\n",
    "fited_weekday_delta=Case_study_analysis.linear_fit_avg_weight_delta_without_log(data,function_name,[100,100,100,100],[1,1,1,1])"
   ]
  },
  {
   "cell_type": "code",
   "execution_count": 34,
   "metadata": {
    "tags": []
   },
   "outputs": [
    {
     "data": {
      "text/html": [
       "<div>\n",
       "<style scoped>\n",
       "    .dataframe tbody tr th:only-of-type {\n",
       "        vertical-align: middle;\n",
       "    }\n",
       "\n",
       "    .dataframe tbody tr th {\n",
       "        vertical-align: top;\n",
       "    }\n",
       "\n",
       "    .dataframe thead th {\n",
       "        text-align: right;\n",
       "    }\n",
       "</style>\n",
       "<table border=\"1\" class=\"dataframe\">\n",
       "  <thead>\n",
       "    <tr style=\"text-align: right;\">\n",
       "      <th></th>\n",
       "      <th>Flow groups</th>\n",
       "      <th>Reshuffled Internal-flow</th>\n",
       "      <th>Reshuffled External-flow</th>\n",
       "      <th>Average intra-change rate</th>\n",
       "      <th>Average inter-change rate</th>\n",
       "      <th>Difference of edge change rate</th>\n",
       "      <th>Pseudo p-value</th>\n",
       "      <th>FG_avg_flow_weekday_weight</th>\n",
       "      <th>FG_avg_flow_weekend_weight</th>\n",
       "      <th>Diameter</th>\n",
       "      <th>avg_distance</th>\n",
       "      <th>std_distance</th>\n",
       "      <th>dif_day_end</th>\n",
       "    </tr>\n",
       "  </thead>\n",
       "  <tbody>\n",
       "    <tr>\n",
       "      <th>84</th>\n",
       "      <td>$F^{p,+}_{85}$</td>\n",
       "      <td>10</td>\n",
       "      <td>491</td>\n",
       "      <td>4.828952</td>\n",
       "      <td>2.344472</td>\n",
       "      <td>2.484480</td>\n",
       "      <td>0.001</td>\n",
       "      <td>15.860000</td>\n",
       "      <td>3.600000</td>\n",
       "      <td>36.647720</td>\n",
       "      <td>16.004253</td>\n",
       "      <td>6.110989</td>\n",
       "      <td>12.260000</td>\n",
       "    </tr>\n",
       "    <tr>\n",
       "      <th>34</th>\n",
       "      <td>$F^{p,+}_{35}$</td>\n",
       "      <td>20</td>\n",
       "      <td>638</td>\n",
       "      <td>4.351524</td>\n",
       "      <td>2.389268</td>\n",
       "      <td>1.962256</td>\n",
       "      <td>0.003</td>\n",
       "      <td>6.069565</td>\n",
       "      <td>1.391304</td>\n",
       "      <td>60.863114</td>\n",
       "      <td>20.101377</td>\n",
       "      <td>10.238213</td>\n",
       "      <td>4.678261</td>\n",
       "    </tr>\n",
       "    <tr>\n",
       "      <th>10</th>\n",
       "      <td>$F^{p,+}_{11}$</td>\n",
       "      <td>15</td>\n",
       "      <td>689</td>\n",
       "      <td>4.007051</td>\n",
       "      <td>2.367048</td>\n",
       "      <td>1.640003</td>\n",
       "      <td>0.004</td>\n",
       "      <td>39.058824</td>\n",
       "      <td>13.764706</td>\n",
       "      <td>48.890735</td>\n",
       "      <td>20.803005</td>\n",
       "      <td>8.875645</td>\n",
       "      <td>25.294118</td>\n",
       "    </tr>\n",
       "    <tr>\n",
       "      <th>95</th>\n",
       "      <td>$F^{p,+}_{96}$</td>\n",
       "      <td>12</td>\n",
       "      <td>509</td>\n",
       "      <td>3.952429</td>\n",
       "      <td>2.218721</td>\n",
       "      <td>1.733708</td>\n",
       "      <td>0.004</td>\n",
       "      <td>10.150000</td>\n",
       "      <td>3.125000</td>\n",
       "      <td>46.880135</td>\n",
       "      <td>20.244953</td>\n",
       "      <td>10.622534</td>\n",
       "      <td>7.025000</td>\n",
       "    </tr>\n",
       "    <tr>\n",
       "      <th>75</th>\n",
       "      <td>$F^{p,+}_{76}$</td>\n",
       "      <td>19</td>\n",
       "      <td>569</td>\n",
       "      <td>3.690175</td>\n",
       "      <td>2.226933</td>\n",
       "      <td>1.463242</td>\n",
       "      <td>0.002</td>\n",
       "      <td>5.060000</td>\n",
       "      <td>1.475000</td>\n",
       "      <td>80.112081</td>\n",
       "      <td>25.324849</td>\n",
       "      <td>13.122478</td>\n",
       "      <td>3.585000</td>\n",
       "    </tr>\n",
       "  </tbody>\n",
       "</table>\n",
       "</div>"
      ],
      "text/plain": [
       "       Flow groups  Reshuffled Internal-flow  Reshuffled External-flow  \\\n",
       "84  $F^{p,+}_{85}$                        10                       491   \n",
       "34  $F^{p,+}_{35}$                        20                       638   \n",
       "10  $F^{p,+}_{11}$                        15                       689   \n",
       "95  $F^{p,+}_{96}$                        12                       509   \n",
       "75  $F^{p,+}_{76}$                        19                       569   \n",
       "\n",
       "    Average intra-change rate  Average inter-change rate  \\\n",
       "84                   4.828952                   2.344472   \n",
       "34                   4.351524                   2.389268   \n",
       "10                   4.007051                   2.367048   \n",
       "95                   3.952429                   2.218721   \n",
       "75                   3.690175                   2.226933   \n",
       "\n",
       "    Difference of edge change rate  Pseudo p-value  \\\n",
       "84                        2.484480           0.001   \n",
       "34                        1.962256           0.003   \n",
       "10                        1.640003           0.004   \n",
       "95                        1.733708           0.004   \n",
       "75                        1.463242           0.002   \n",
       "\n",
       "    FG_avg_flow_weekday_weight  FG_avg_flow_weekend_weight   Diameter  \\\n",
       "84                   15.860000                    3.600000  36.647720   \n",
       "34                    6.069565                    1.391304  60.863114   \n",
       "10                   39.058824                   13.764706  48.890735   \n",
       "95                   10.150000                    3.125000  46.880135   \n",
       "75                    5.060000                    1.475000  80.112081   \n",
       "\n",
       "    avg_distance  std_distance  dif_day_end  \n",
       "84     16.004253      6.110989    12.260000  \n",
       "34     20.101377     10.238213     4.678261  \n",
       "10     20.803005      8.875645    25.294118  \n",
       "95     20.244953     10.622534     7.025000  \n",
       "75     25.324849     13.122478     3.585000  "
      ]
     },
     "execution_count": 34,
     "metadata": {},
     "output_type": "execute_result"
    }
   ],
   "source": [
    "top_5_sig_co_in"
   ]
  },
  {
   "cell_type": "code",
   "execution_count": 35,
   "metadata": {
    "tags": []
   },
   "outputs": [],
   "source": [
    "# Get the locations of flows\n",
    "top_5_sig_co_in_flows=Case_study_analysis.get_flows_in_top5(P_weekday_g,P_weekend_g,fishnet,sig_co_in,top_5_sig_co_in,sig_co_in_node,co_in_CFEP)\n",
    "top_5_sig_po_co_flows=Case_study_analysis.get_flows_in_top5(P_weekday_g,P_weekend_g,fishnet,sig_po_co,top_5_sig_po_co,sig_po_co_node,po_co_CFEP)\n",
    "top_5_sig_co_de_flows=Case_study_analysis.get_flows_in_top5(N_weekday_g,N_weekend_g,fishnet,sig_co_de,top_5_sig_co_de,sig_co_de_node,co_de_CFEP)\n",
    "top_5_sig_ne_co_flows=Case_study_analysis.get_flows_in_top5(N_weekday_g,N_weekend_g,fishnet,sig_ne_co,top_5_sig_ne_co,sig_ne_co_node,ne_co_CFEP)"
   ]
  },
  {
   "cell_type": "code",
   "execution_count": 36,
   "metadata": {
    "tags": []
   },
   "outputs": [
    {
     "data": {
      "text/html": [
       "<div>\n",
       "<style scoped>\n",
       "    .dataframe tbody tr th:only-of-type {\n",
       "        vertical-align: middle;\n",
       "    }\n",
       "\n",
       "    .dataframe tbody tr th {\n",
       "        vertical-align: top;\n",
       "    }\n",
       "\n",
       "    .dataframe thead th {\n",
       "        text-align: right;\n",
       "    }\n",
       "</style>\n",
       "<table border=\"1\" class=\"dataframe\">\n",
       "  <thead>\n",
       "    <tr style=\"text-align: right;\">\n",
       "      <th></th>\n",
       "      <th>O</th>\n",
       "      <th>D</th>\n",
       "      <th>FG_index</th>\n",
       "      <th>change_rate</th>\n",
       "      <th>weekday_weight</th>\n",
       "      <th>weekend_weight</th>\n",
       "      <th>avg_change_rate_FG</th>\n",
       "      <th>O_x</th>\n",
       "      <th>O_y</th>\n",
       "      <th>D_x</th>\n",
       "      <th>D_y</th>\n",
       "    </tr>\n",
       "  </thead>\n",
       "  <tbody>\n",
       "    <tr>\n",
       "      <th>0</th>\n",
       "      <td>635</td>\n",
       "      <td>837</td>\n",
       "      <td>0</td>\n",
       "      <td>0.960000</td>\n",
       "      <td>4.8</td>\n",
       "      <td>5.0</td>\n",
       "      <td>0.979342</td>\n",
       "      <td>-93.120891</td>\n",
       "      <td>44.970791</td>\n",
       "      <td>-93.197536</td>\n",
       "      <td>45.132717</td>\n",
       "    </tr>\n",
       "    <tr>\n",
       "      <th>1</th>\n",
       "      <td>635</td>\n",
       "      <td>672</td>\n",
       "      <td>0</td>\n",
       "      <td>0.903371</td>\n",
       "      <td>40.2</td>\n",
       "      <td>44.5</td>\n",
       "      <td>0.979342</td>\n",
       "      <td>-93.120891</td>\n",
       "      <td>44.970791</td>\n",
       "      <td>-93.006761</td>\n",
       "      <td>44.997860</td>\n",
       "    </tr>\n",
       "    <tr>\n",
       "      <th>2</th>\n",
       "      <td>635</td>\n",
       "      <td>670</td>\n",
       "      <td>0</td>\n",
       "      <td>1.067636</td>\n",
       "      <td>146.8</td>\n",
       "      <td>137.5</td>\n",
       "      <td>0.979342</td>\n",
       "      <td>-93.120891</td>\n",
       "      <td>44.970791</td>\n",
       "      <td>-93.082885</td>\n",
       "      <td>44.997830</td>\n",
       "    </tr>\n",
       "    <tr>\n",
       "      <th>3</th>\n",
       "      <td>635</td>\n",
       "      <td>701</td>\n",
       "      <td>0</td>\n",
       "      <td>0.937143</td>\n",
       "      <td>16.4</td>\n",
       "      <td>17.5</td>\n",
       "      <td>0.979342</td>\n",
       "      <td>-93.120891</td>\n",
       "      <td>44.970791</td>\n",
       "      <td>-93.197164</td>\n",
       "      <td>45.024696</td>\n",
       "    </tr>\n",
       "    <tr>\n",
       "      <th>4</th>\n",
       "      <td>635</td>\n",
       "      <td>705</td>\n",
       "      <td>0</td>\n",
       "      <td>0.677647</td>\n",
       "      <td>28.8</td>\n",
       "      <td>42.5</td>\n",
       "      <td>0.979342</td>\n",
       "      <td>-93.120891</td>\n",
       "      <td>44.970791</td>\n",
       "      <td>-93.044844</td>\n",
       "      <td>45.024857</td>\n",
       "    </tr>\n",
       "  </tbody>\n",
       "</table>\n",
       "</div>"
      ],
      "text/plain": [
       "     O    D  FG_index  change_rate  weekday_weight  weekend_weight  \\\n",
       "0  635  837         0     0.960000             4.8             5.0   \n",
       "1  635  672         0     0.903371            40.2            44.5   \n",
       "2  635  670         0     1.067636           146.8           137.5   \n",
       "3  635  701         0     0.937143            16.4            17.5   \n",
       "4  635  705         0     0.677647            28.8            42.5   \n",
       "\n",
       "   avg_change_rate_FG        O_x        O_y        D_x        D_y  \n",
       "0            0.979342 -93.120891  44.970791 -93.197536  45.132717  \n",
       "1            0.979342 -93.120891  44.970791 -93.006761  44.997860  \n",
       "2            0.979342 -93.120891  44.970791 -93.082885  44.997830  \n",
       "3            0.979342 -93.120891  44.970791 -93.197164  45.024696  \n",
       "4            0.979342 -93.120891  44.970791 -93.044844  45.024857  "
      ]
     },
     "execution_count": 36,
     "metadata": {},
     "output_type": "execute_result"
    }
   ],
   "source": [
    "top_5_sig_ne_co_flows.head()"
   ]
  },
  {
   "cell_type": "markdown",
   "metadata": {},
   "source": [
    "### The  visualization of top 5 CFEP flow groups is achieved by [kepler.gl](https://kepler.gl/). You may download the dataframe of flow locations and upload it to kepler.gl for further editing.\n"
   ]
  },
  {
   "cell_type": "markdown",
   "metadata": {
    "tags": []
   },
   "source": [
    "<img src=\"4_CFEP.jpeg\" width = \"60%\" />"
   ]
  },
  {
   "cell_type": "code",
   "execution_count": null,
   "metadata": {},
   "outputs": [],
   "source": []
  }
 ],
 "metadata": {
  "kernelspec": {
   "display_name": "CFEP",
   "language": "python",
   "name": "cfep"
  },
  "language_info": {
   "codemirror_mode": {
    "name": "ipython",
    "version": 3
   },
   "file_extension": ".py",
   "mimetype": "text/x-python",
   "name": "python",
   "nbconvert_exporter": "python",
   "pygments_lexer": "ipython3",
   "version": "3.9.13"
  }
 },
 "nbformat": 4,
 "nbformat_minor": 4
}
